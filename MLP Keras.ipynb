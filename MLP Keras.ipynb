{
 "cells": [
  {
   "cell_type": "code",
   "execution_count": 1,
   "metadata": {
    "ExecuteTime": {
     "end_time": "2019-05-23T20:39:40.565380Z",
     "start_time": "2019-05-23T20:38:41.911925Z"
    }
   },
   "outputs": [
    {
     "name": "stderr",
     "output_type": "stream",
     "text": [
      "C:\\Anaconda3\\lib\\site-packages\\h5py\\__init__.py:36: FutureWarning: Conversion of the second argument of issubdtype from `float` to `np.floating` is deprecated. In future, it will be treated as `np.float64 == np.dtype(float).type`.\n",
      "  from ._conv import register_converters as _register_converters\n",
      "Using TensorFlow backend.\n"
     ]
    }
   ],
   "source": [
    "import pandas as pd\n",
    "import keras\n",
    "from keras.models import Sequential\n",
    "from keras.layers import *"
   ]
  },
  {
   "cell_type": "code",
   "execution_count": 2,
   "metadata": {
    "ExecuteTime": {
     "end_time": "2019-05-23T20:39:57.201878Z",
     "start_time": "2019-05-23T20:39:40.577381Z"
    }
   },
   "outputs": [],
   "source": [
    "import matplotlib.pyplot as plt\n",
    "import seaborn as sns\n",
    "sns.set()\n",
    "%matplotlib notebook"
   ]
  },
  {
   "cell_type": "code",
   "execution_count": 3,
   "metadata": {
    "ExecuteTime": {
     "end_time": "2019-05-23T20:39:57.541936Z",
     "start_time": "2019-05-23T20:39:57.203880Z"
    }
   },
   "outputs": [],
   "source": [
    "training_data_df = pd.read_csv(\"sales_data_training_scaled.csv\")\n",
    "\n",
    "X = training_data_df.drop('total_earnings', axis=1).values\n",
    "Y = training_data_df[['total_earnings']].values"
   ]
  },
  {
   "cell_type": "markdown",
   "metadata": {},
   "source": [
    "#  Custom Metrics"
   ]
  },
  {
   "cell_type": "code",
   "execution_count": null,
   "metadata": {},
   "outputs": [],
   "source": []
  },
  {
   "cell_type": "markdown",
   "metadata": {},
   "source": [
    "# Regularization"
   ]
  },
  {
   "cell_type": "code",
   "execution_count": 4,
   "metadata": {
    "ExecuteTime": {
     "end_time": "2019-05-23T20:39:57.552940Z",
     "start_time": "2019-05-23T20:39:57.544939Z"
    }
   },
   "outputs": [],
   "source": [
    "l1_reg = keras.regularizers.l1(l=0.01)\n",
    "l2_reg = keras.regularizers.l2(l=0.01)"
   ]
  },
  {
   "cell_type": "markdown",
   "metadata": {},
   "source": [
    "#  Momentum and Learning Rate"
   ]
  },
  {
   "cell_type": "code",
   "execution_count": 5,
   "metadata": {
    "ExecuteTime": {
     "end_time": "2019-05-23T20:40:38.302566Z",
     "start_time": "2019-05-23T20:40:38.263346Z"
    }
   },
   "outputs": [],
   "source": [
    "# Optimizer Tuning\n",
    "optimizer = keras.optimizers.SGD(lr=0.001, momentum=0.4)"
   ]
  },
  {
   "cell_type": "markdown",
   "metadata": {},
   "source": [
    "# Build MLP Model "
   ]
  },
  {
   "cell_type": "code",
   "execution_count": 6,
   "metadata": {
    "ExecuteTime": {
     "end_time": "2019-05-23T20:41:45.839194Z",
     "start_time": "2019-05-23T20:41:45.563409Z"
    },
    "scrolled": true
   },
   "outputs": [
    {
     "name": "stdout",
     "output_type": "stream",
     "text": [
      "_________________________________________________________________\n",
      "Layer (type)                 Output Shape              Param #   \n",
      "=================================================================\n",
      "layer_1 (Dense)              (None, 5)                 50        \n",
      "_________________________________________________________________\n",
      "layer_2 (Dense)              (None, 100)               600       \n",
      "_________________________________________________________________\n",
      "dropout_1 (Dropout)          (None, 100)               0         \n",
      "_________________________________________________________________\n",
      "layer_3 (Dense)              (None, 50)                5050      \n",
      "_________________________________________________________________\n",
      "dropout_2 (Dropout)          (None, 50)                0         \n",
      "_________________________________________________________________\n",
      "output_layer (Dense)         (None, 1)                 51        \n",
      "=================================================================\n",
      "Total params: 5,751\n",
      "Trainable params: 5,751\n",
      "Non-trainable params: 0\n",
      "_________________________________________________________________\n"
     ]
    }
   ],
   "source": [
    "# Define the model\n",
    "RUN_NAME = \"run 2 with 5 nodes\"\n",
    "model = Sequential()\n",
    "model.add(Dense(5, input_dim=9, activation='relu', name='layer_1'))\n",
    "model.add(Dense(100, activation='relu', name='layer_2', kernel_regularizer=l1_reg))\n",
    "model.add(Dropout(0.2))\n",
    "model.add(Dense(50, activation='relu', name='layer_3'))\n",
    "model.add(Dropout(0.2))\n",
    "model.add(Dense(1, activation='linear', name='output_layer'))\n",
    "\n",
    "model.compile(loss='mean_squared_error', optimizer=optimizer, metrics=['mae'])\n",
    "\n",
    "model.summary()"
   ]
  },
  {
   "cell_type": "code",
   "execution_count": 7,
   "metadata": {
    "ExecuteTime": {
     "end_time": "2019-05-23T20:42:28.545534Z",
     "start_time": "2019-05-23T20:42:03.462995Z"
    }
   },
   "outputs": [
    {
     "data": {
      "text/plain": [
       "[array([[ 0.01479733, -0.1932109 , -0.39895985, -0.39175513,  0.17891538],\n",
       "        [ 0.33730203,  0.45034444,  0.33528185, -0.44709745,  0.5110662 ],\n",
       "        [ 0.5613476 ,  0.5664395 , -0.41037005, -0.49643657,  0.14123946],\n",
       "        [ 0.23665261, -0.45675373,  0.36125934, -0.33810052,  0.25107956],\n",
       "        [-0.2624103 , -0.5830041 ,  0.23524445,  0.60651124, -0.47961754],\n",
       "        [-0.14212054,  0.5812901 ,  0.12700373,  0.05700397, -0.33082807],\n",
       "        [ 0.5042068 ,  0.09762013,  0.03884119, -0.33946952,  0.6492163 ],\n",
       "        [ 0.1603117 , -0.11663556, -0.12958735,  0.06016088,  0.45613337],\n",
       "        [-0.060862  , -0.5088998 , -0.50910103, -0.07023281, -0.0414837 ]],\n",
       "       dtype=float32),\n",
       " array([0., 0., 0., 0., 0.], dtype=float32),\n",
       " array([[ 5.07813841e-02, -9.95610207e-02, -3.88402343e-02,\n",
       "          1.15697101e-01,  1.43921986e-01,  1.47584692e-01,\n",
       "          8.93796235e-02, -1.54746205e-01, -2.26214901e-01,\n",
       "          1.13755003e-01,  7.42810816e-02, -2.34495699e-01,\n",
       "         -2.16150463e-01,  1.21354267e-01, -1.71046585e-01,\n",
       "          2.27997407e-01,  3.14736217e-02,  2.19238862e-01,\n",
       "          1.74276724e-01, -1.59403741e-01,  1.08038172e-01,\n",
       "         -3.65738571e-02, -1.58184469e-02,  1.28209397e-01,\n",
       "          8.75693709e-02,  9.56804901e-02,  8.50536376e-02,\n",
       "         -8.83203149e-02,  2.09529236e-01,  1.49892762e-01,\n",
       "         -2.18073234e-01,  1.77470669e-01,  2.10126981e-01,\n",
       "          1.99662343e-01, -1.86800987e-01,  1.20127514e-01,\n",
       "          6.87764734e-02,  4.14417833e-02,  1.61508247e-01,\n",
       "         -2.35803276e-01, -1.12842262e-01,  1.09163716e-01,\n",
       "          5.42902201e-02,  7.89225847e-02,  2.21361890e-01,\n",
       "         -7.12938905e-02, -9.00393873e-02,  9.31810588e-02,\n",
       "         -1.63504094e-01, -6.19537234e-02,  1.41234249e-02,\n",
       "         -6.91443533e-02,  1.79272547e-01, -2.27672443e-01,\n",
       "          6.53087944e-02, -1.98473647e-01, -2.17093468e-01,\n",
       "          1.77315310e-01, -1.45012558e-01, -2.26114079e-01,\n",
       "         -2.32491255e-01,  1.03703290e-02, -2.08103746e-01,\n",
       "         -1.66120410e-01, -2.14111432e-01,  2.04131439e-01,\n",
       "          4.56404537e-02,  2.17894509e-01, -1.41187459e-02,\n",
       "          1.07432440e-01, -1.14973173e-01, -4.86562997e-02,\n",
       "         -1.67236671e-01,  7.71533996e-02, -1.97604671e-01,\n",
       "         -2.01199338e-01,  4.34674472e-02,  1.58527985e-01,\n",
       "         -1.97861999e-01, -8.44731778e-02,  2.23437354e-01,\n",
       "          2.08790436e-01, -2.00072408e-01,  6.29963428e-02,\n",
       "         -2.29938596e-01,  2.10140958e-01,  1.25960901e-01,\n",
       "         -2.04317704e-01, -8.47791135e-02,  2.06962511e-01,\n",
       "         -2.07099348e-01, -4.21001017e-03,  1.86805427e-03,\n",
       "         -1.03470400e-01, -3.39194089e-02,  5.20567596e-03,\n",
       "          3.50949317e-02,  1.58911094e-01,  6.58377856e-02,\n",
       "          9.45471972e-02],\n",
       "        [-2.18110502e-01, -1.15529142e-01, -2.02164620e-01,\n",
       "         -4.76806909e-02,  2.14564070e-01,  1.40764430e-01,\n",
       "         -9.22427922e-02,  1.01554140e-01,  4.01486307e-02,\n",
       "          1.21975049e-01,  2.05489531e-01, -3.22630256e-02,\n",
       "         -1.01235360e-01, -1.59263194e-01,  1.95172876e-02,\n",
       "          2.80652195e-02,  2.02279761e-01, -2.04369426e-04,\n",
       "         -1.72678068e-01,  5.21262139e-02, -2.03112513e-02,\n",
       "          1.71371505e-01, -8.51122886e-02,  1.04723677e-01,\n",
       "          7.88836032e-02,  2.36159191e-01, -1.87110156e-02,\n",
       "         -1.70648277e-01, -4.56291437e-03,  2.15011910e-01,\n",
       "         -5.95556796e-02, -1.22500286e-01,  1.49604425e-01,\n",
       "          1.54840246e-01, -1.44225717e-01,  1.30996004e-01,\n",
       "          9.41986293e-02,  1.03052855e-02, -5.03671765e-02,\n",
       "         -5.80111146e-02,  2.31767043e-01,  8.93982202e-02,\n",
       "          4.87534851e-02,  2.17802629e-01, -9.70616639e-02,\n",
       "          1.68351382e-02, -1.50051236e-01, -2.24472225e-01,\n",
       "         -9.41956043e-02,  2.36779600e-02, -9.32752788e-02,\n",
       "          2.25501910e-01, -2.03445256e-01,  1.66925654e-01,\n",
       "          1.60565987e-01, -1.09676480e-01,  1.29887596e-01,\n",
       "          1.01667210e-01, -4.79927361e-02,  2.18016133e-01,\n",
       "         -7.48032331e-02,  1.12665191e-01, -2.37131953e-01,\n",
       "          1.09876916e-01,  1.29612610e-01,  1.09330460e-01,\n",
       "          6.54740185e-02, -1.78158626e-01,  8.11235160e-02,\n",
       "         -1.09835029e-01, -4.63452935e-02, -1.82205915e-01,\n",
       "          2.20450684e-01,  1.70351490e-01,  4.77040559e-02,\n",
       "         -2.81405449e-02,  2.26220265e-01,  1.14953861e-01,\n",
       "          1.56112716e-01, -2.11326584e-01,  2.72606462e-02,\n",
       "          1.63785741e-01,  1.65826961e-01, -1.43173635e-02,\n",
       "          9.17230695e-02, -7.31645226e-02,  1.35474786e-01,\n",
       "         -4.96605188e-02,  1.83967218e-01, -1.08054742e-01,\n",
       "         -3.09249908e-02, -5.85944951e-03,  2.16415718e-01,\n",
       "          2.23927662e-01,  1.83624819e-01, -3.72180492e-02,\n",
       "         -6.66538775e-02, -1.59329072e-01, -1.84553802e-01,\n",
       "         -7.95599818e-02],\n",
       "        [-8.93865526e-03, -3.10629755e-02,  2.85731703e-02,\n",
       "         -2.03933403e-01,  5.11186272e-02,  5.55452704e-03,\n",
       "          2.24443272e-01, -1.37862563e-02, -1.36415631e-01,\n",
       "          1.14717379e-01,  2.57322639e-02, -1.43765837e-01,\n",
       "          1.86123744e-01,  2.05087379e-01,  1.49313942e-01,\n",
       "         -7.57481158e-02,  1.96525618e-01,  1.04832485e-01,\n",
       "         -1.21370517e-01, -1.44500941e-01, -1.30464882e-01,\n",
       "         -2.51068771e-02, -1.15199089e-01,  7.85389394e-02,\n",
       "         -3.06371301e-02, -2.03469530e-01, -1.11535922e-01,\n",
       "          2.27046952e-01, -2.41309851e-02,  1.62912622e-01,\n",
       "          3.19125801e-02, -4.93504107e-02, -1.33696780e-01,\n",
       "         -2.18281537e-01,  2.12118283e-01,  4.19901162e-02,\n",
       "         -2.27575779e-01, -8.83438438e-02, -1.93581313e-01,\n",
       "         -5.25155813e-02,  1.40825227e-01, -1.75290167e-01,\n",
       "          1.02972165e-01, -3.12815458e-02,  1.70670435e-01,\n",
       "          6.19264096e-02, -6.55749440e-03, -2.26997241e-01,\n",
       "          9.94819850e-02, -2.02605814e-01, -5.33784926e-03,\n",
       "         -1.54642701e-01,  5.63112944e-02,  1.63225606e-01,\n",
       "          1.57901838e-01,  1.43691346e-01,  1.63170695e-03,\n",
       "         -1.92013443e-01,  1.99411288e-01,  1.62538007e-01,\n",
       "         -2.20679492e-02,  4.98423725e-02, -8.60592276e-02,\n",
       "         -1.85854897e-01, -1.66514575e-01, -1.51280299e-01,\n",
       "          8.71055573e-02, -1.02190509e-01,  1.31448954e-02,\n",
       "          5.36161214e-02,  2.25918755e-01,  2.28195235e-01,\n",
       "          2.07413957e-01, -2.18891308e-01,  1.50365725e-01,\n",
       "          2.81263143e-02, -2.20431253e-01, -1.07345402e-01,\n",
       "          1.44975409e-01,  1.42112300e-01,  6.88207000e-02,\n",
       "         -7.30271637e-02,  2.36808911e-01,  1.77589223e-01,\n",
       "          4.66236472e-03, -2.03132764e-01, -3.27027142e-02,\n",
       "         -2.11768448e-01, -3.14984024e-02, -2.08557233e-01,\n",
       "          2.09285960e-01,  2.03472272e-01, -2.19726831e-01,\n",
       "         -2.10905179e-01,  1.15288928e-01,  6.38266951e-02,\n",
       "         -1.14361756e-01, -1.48811191e-01,  1.52652577e-01,\n",
       "          9.32039320e-03],\n",
       "        [ 6.76638335e-02,  1.52607709e-02,  1.62795767e-01,\n",
       "         -2.73516476e-02,  2.15386465e-01, -2.38255456e-01,\n",
       "         -2.19919235e-01,  1.60378665e-02, -1.49515569e-01,\n",
       "          1.37203783e-02, -1.37568593e-01, -7.14608282e-02,\n",
       "          1.54426470e-01,  1.29264846e-01, -1.14764519e-01,\n",
       "         -7.59042203e-02,  2.04391971e-01,  8.15344006e-02,\n",
       "          2.16042623e-01,  1.13830820e-01, -1.77233398e-01,\n",
       "         -1.51233673e-02,  1.96023419e-01, -2.20439643e-01,\n",
       "          1.52394176e-04,  1.40409812e-01, -6.61206990e-02,\n",
       "         -1.93965673e-01,  2.31491253e-01, -2.29436547e-01,\n",
       "          9.82738882e-02,  6.07163459e-02,  3.79776508e-02,\n",
       "         -1.71571791e-01,  7.05967695e-02, -7.18739182e-02,\n",
       "          1.97305903e-01, -1.24572322e-01,  1.24313071e-01,\n",
       "         -2.74848938e-03, -1.95887297e-01, -3.04788053e-02,\n",
       "          2.50571817e-02,  2.03315303e-01,  9.83859450e-02,\n",
       "          1.50495157e-01,  2.29661956e-01, -4.11040485e-02,\n",
       "         -2.05912426e-01,  1.00958601e-01,  9.39051062e-02,\n",
       "         -1.76426768e-02, -1.02020666e-01, -8.37634355e-02,\n",
       "         -3.65475267e-02, -2.30186626e-01, -2.27747098e-01,\n",
       "          2.34364614e-01, -1.73344091e-01,  1.46577254e-01,\n",
       "         -1.41097367e-01, -5.40802032e-02,  9.89500731e-02,\n",
       "          2.02719614e-01,  1.59908980e-02,  1.68791220e-01,\n",
       "          1.09934434e-01,  4.25481349e-02, -3.77664268e-02,\n",
       "          1.79882273e-01, -2.03964174e-01, -1.84109598e-01,\n",
       "          1.16701588e-01, -1.84932351e-01, -1.10193402e-01,\n",
       "          3.28658968e-02, -1.03326887e-01, -1.90459043e-02,\n",
       "          1.10307619e-01, -9.72215235e-02,  2.13707760e-01,\n",
       "         -2.55160183e-02,  4.73112017e-02,  8.19832534e-02,\n",
       "          6.99438006e-02, -1.47940740e-01, -2.02824831e-01,\n",
       "         -1.22317508e-01, -1.02251440e-01, -1.70173466e-01,\n",
       "          2.57311612e-02, -2.38534048e-01,  5.33294231e-02,\n",
       "         -3.93839478e-02, -1.95631295e-01,  2.53049880e-02,\n",
       "         -1.70634478e-01,  7.79590458e-02,  6.96523935e-02,\n",
       "         -1.81818366e-01],\n",
       "        [ 1.33298412e-01, -1.03769675e-01,  1.81137010e-01,\n",
       "         -9.15470272e-02, -2.16880649e-01, -8.92805904e-02,\n",
       "         -1.98699221e-01, -1.16277397e-01,  2.37181440e-01,\n",
       "          1.56729802e-01,  1.04353234e-01,  5.18526882e-02,\n",
       "          1.33920655e-01,  2.00631902e-01, -1.40751660e-01,\n",
       "         -1.82370231e-01, -1.67417511e-01, -2.05986291e-01,\n",
       "          1.39591247e-02,  2.11371437e-01, -1.78599119e-01,\n",
       "         -5.65742105e-02, -1.26954004e-01, -1.15172759e-01,\n",
       "         -2.31833011e-02,  1.66045293e-01,  6.92072660e-02,\n",
       "         -1.15658395e-01,  6.36731535e-02, -1.52256757e-01,\n",
       "          2.36215144e-02,  1.29715696e-01,  1.40260771e-01,\n",
       "          2.20355466e-01, -9.33266282e-02,  1.79131314e-01,\n",
       "          2.54043788e-02,  1.94339558e-01,  5.60554117e-02,\n",
       "         -2.32669473e-01,  1.95433632e-01,  4.03979570e-02,\n",
       "          9.57272798e-02,  2.35757753e-01, -3.99808288e-02,\n",
       "         -3.43593359e-02, -6.02671802e-02,  1.15738079e-01,\n",
       "          1.34897783e-01, -5.17694205e-02,  6.75411373e-02,\n",
       "         -2.01365232e-01,  2.29465142e-01, -6.86757565e-02,\n",
       "         -1.32717520e-01, -2.23433539e-01, -1.22987926e-02,\n",
       "         -2.08069950e-01, -1.54177189e-01,  9.85057503e-02,\n",
       "         -4.95207161e-02,  2.38006577e-01,  4.36417609e-02,\n",
       "         -1.82193547e-01,  3.91222984e-02,  4.44457084e-02,\n",
       "          5.55493683e-02,  2.07500860e-01, -6.27661496e-02,\n",
       "         -2.06134915e-02, -1.89131707e-01,  2.24494919e-01,\n",
       "         -7.39346594e-02,  4.75151390e-02,  2.15865716e-01,\n",
       "          2.21552208e-01, -5.24332821e-02, -7.18639344e-02,\n",
       "         -3.74443680e-02, -1.77571833e-01,  2.35712782e-01,\n",
       "         -1.98657393e-01,  1.62410334e-01, -1.93659738e-01,\n",
       "         -1.00804567e-02,  4.43807989e-02, -2.29440704e-01,\n",
       "          1.24543086e-01, -1.05165139e-01,  1.58964589e-01,\n",
       "          5.42271882e-02,  6.83758110e-02,  1.49556443e-01,\n",
       "         -2.54253447e-02,  2.31751546e-01,  1.68097481e-01,\n",
       "         -1.82599857e-01,  8.65048021e-02,  2.31596932e-01,\n",
       "          1.45402566e-01]], dtype=float32),\n",
       " array([0., 0., 0., 0., 0., 0., 0., 0., 0., 0., 0., 0., 0., 0., 0., 0., 0.,\n",
       "        0., 0., 0., 0., 0., 0., 0., 0., 0., 0., 0., 0., 0., 0., 0., 0., 0.,\n",
       "        0., 0., 0., 0., 0., 0., 0., 0., 0., 0., 0., 0., 0., 0., 0., 0., 0.,\n",
       "        0., 0., 0., 0., 0., 0., 0., 0., 0., 0., 0., 0., 0., 0., 0., 0., 0.,\n",
       "        0., 0., 0., 0., 0., 0., 0., 0., 0., 0., 0., 0., 0., 0., 0., 0., 0.,\n",
       "        0., 0., 0., 0., 0., 0., 0., 0., 0., 0., 0., 0., 0., 0., 0.],\n",
       "       dtype=float32),\n",
       " array([[ 0.06062497,  0.17656808, -0.16485076, ...,  0.05886988,\n",
       "         -0.06422643, -0.10333891],\n",
       "        [-0.15092626, -0.10553541,  0.10312344, ...,  0.00214319,\n",
       "          0.01602229,  0.13125916],\n",
       "        [ 0.12940584, -0.05497274,  0.07369055, ...,  0.19219519,\n",
       "         -0.05504628, -0.19549346],\n",
       "        ...,\n",
       "        [ 0.09177266,  0.01282744, -0.19835483, ..., -0.16433248,\n",
       "         -0.00144057,  0.0395813 ],\n",
       "        [ 0.05629744, -0.1287593 ,  0.1691704 , ...,  0.00161591,\n",
       "          0.18508683, -0.04613094],\n",
       "        [ 0.193545  , -0.03260894,  0.08338647, ...,  0.08314876,\n",
       "          0.02566537, -0.04147176]], dtype=float32),\n",
       " array([0., 0., 0., 0., 0., 0., 0., 0., 0., 0., 0., 0., 0., 0., 0., 0., 0.,\n",
       "        0., 0., 0., 0., 0., 0., 0., 0., 0., 0., 0., 0., 0., 0., 0., 0., 0.,\n",
       "        0., 0., 0., 0., 0., 0., 0., 0., 0., 0., 0., 0., 0., 0., 0., 0.],\n",
       "       dtype=float32),\n",
       " array([[-0.15911216],\n",
       "        [ 0.3046222 ],\n",
       "        [ 0.14138678],\n",
       "        [ 0.12557921],\n",
       "        [-0.07870477],\n",
       "        [-0.18796591],\n",
       "        [-0.09909242],\n",
       "        [-0.3035295 ],\n",
       "        [ 0.14673841],\n",
       "        [ 0.06754747],\n",
       "        [-0.01209104],\n",
       "        [-0.05499128],\n",
       "        [ 0.14583871],\n",
       "        [ 0.07084072],\n",
       "        [-0.272627  ],\n",
       "        [-0.09245786],\n",
       "        [ 0.21318081],\n",
       "        [-0.12188838],\n",
       "        [ 0.13990915],\n",
       "        [ 0.28480384],\n",
       "        [-0.27775875],\n",
       "        [-0.28623754],\n",
       "        [ 0.14880696],\n",
       "        [-0.03125545],\n",
       "        [-0.20614508],\n",
       "        [-0.20766678],\n",
       "        [-0.00816494],\n",
       "        [ 0.08011585],\n",
       "        [ 0.18144324],\n",
       "        [-0.00209504],\n",
       "        [ 0.20675835],\n",
       "        [ 0.23295733],\n",
       "        [ 0.25891235],\n",
       "        [-0.2018047 ],\n",
       "        [-0.23532234],\n",
       "        [ 0.05337912],\n",
       "        [ 0.05484015],\n",
       "        [-0.13351534],\n",
       "        [-0.07456842],\n",
       "        [-0.10151866],\n",
       "        [-0.14870752],\n",
       "        [-0.30978724],\n",
       "        [ 0.12772489],\n",
       "        [ 0.27856466],\n",
       "        [-0.14865379],\n",
       "        [-0.12386641],\n",
       "        [-0.07607564],\n",
       "        [ 0.0928773 ],\n",
       "        [ 0.21295646],\n",
       "        [ 0.29394016]], dtype=float32),\n",
       " array([0.], dtype=float32)]"
      ]
     },
     "execution_count": 7,
     "metadata": {},
     "output_type": "execute_result"
    }
   ],
   "source": [
    "model.get_weights()"
   ]
  },
  {
   "cell_type": "markdown",
   "metadata": {},
   "source": [
    "#  Callbacks"
   ]
  },
  {
   "cell_type": "markdown",
   "metadata": {},
   "source": [
    "##  CSV Logger"
   ]
  },
  {
   "cell_type": "code",
   "execution_count": 8,
   "metadata": {
    "ExecuteTime": {
     "end_time": "2019-05-23T20:43:41.604134Z",
     "start_time": "2019-05-23T20:43:41.598125Z"
    }
   },
   "outputs": [],
   "source": [
    "# Create a CSV logger\n",
    "csv_logger = keras.callbacks.CSVLogger('logs/training_logs.csv', separator=',', append=False)"
   ]
  },
  {
   "cell_type": "markdown",
   "metadata": {},
   "source": [
    "##  Early Stopping Callback"
   ]
  },
  {
   "cell_type": "code",
   "execution_count": 9,
   "metadata": {
    "ExecuteTime": {
     "end_time": "2019-05-23T20:43:42.434060Z",
     "start_time": "2019-05-23T20:43:42.431058Z"
    }
   },
   "outputs": [],
   "source": [
    "# Create EarlyStopping callback\n",
    "early_stopping = keras.callbacks.EarlyStopping(monitor='val_loss',min_delta=0.001, patience=5)"
   ]
  },
  {
   "cell_type": "markdown",
   "metadata": {},
   "source": [
    "#  Model Trainning"
   ]
  },
  {
   "cell_type": "code",
   "execution_count": 10,
   "metadata": {
    "ExecuteTime": {
     "end_time": "2019-05-23T20:48:44.824624Z",
     "start_time": "2019-05-23T20:48:35.263865Z"
    },
    "scrolled": true
   },
   "outputs": [
    {
     "name": "stdout",
     "output_type": "stream",
     "text": [
      "Train on 800 samples, validate on 200 samples\n",
      "Epoch 1/10\n",
      "800/800 [==============================] - 2s 3ms/step - loss: 0.6837 - mean_absolute_error: 0.2034 - val_loss: 0.6505 - val_mean_absolute_error: 0.1465\n",
      "Epoch 2/10\n",
      "800/800 [==============================] - 1s 1ms/step - loss: 0.6510 - mean_absolute_error: 0.1511 - val_loss: 0.6342 - val_mean_absolute_error: 0.1253\n",
      "Epoch 3/10\n",
      "800/800 [==============================] - 1s 934us/step - loss: 0.6404 - mean_absolute_error: 0.1467 - val_loss: 0.6258 - val_mean_absolute_error: 0.1225\n",
      "Epoch 4/10\n",
      "800/800 [==============================] - 1s 932us/step - loss: 0.6289 - mean_absolute_error: 0.1362 - val_loss: 0.6186 - val_mean_absolute_error: 0.1222\n",
      "Epoch 5/10\n",
      "800/800 [==============================] - 1s 1ms/step - loss: 0.6225 - mean_absolute_error: 0.1384 - val_loss: 0.6118 - val_mean_absolute_error: 0.1225\n",
      "Epoch 6/10\n",
      "800/800 [==============================] - ETA: 0s - loss: 0.6146 - mean_absolute_error: 0.133 - 1s 828us/step - loss: 0.6144 - mean_absolute_error: 0.1334 - val_loss: 0.6049 - val_mean_absolute_error: 0.1219\n",
      "Epoch 7/10\n",
      "800/800 [==============================] - 1s 1ms/step - loss: 0.6085 - mean_absolute_error: 0.1331 - val_loss: 0.5979 - val_mean_absolute_error: 0.1208\n",
      "Epoch 8/10\n",
      "800/800 [==============================] - 1s 834us/step - loss: 0.6027 - mean_absolute_error: 0.1367 - val_loss: 0.5911 - val_mean_absolute_error: 0.1199\n",
      "Epoch 9/10\n",
      "800/800 [==============================] - 1s 908us/step - loss: 0.5932 - mean_absolute_error: 0.1326 - val_loss: 0.5845 - val_mean_absolute_error: 0.1201\n",
      "Epoch 10/10\n",
      "800/800 [==============================] - 1s 658us/step - loss: 0.5854 - mean_absolute_error: 0.1290 - val_loss: 0.5778 - val_mean_absolute_error: 0.1196\n"
     ]
    }
   ],
   "source": [
    "# Train the model\n",
    "history = model.fit(\n",
    "    X,\n",
    "    Y,\n",
    "    validation_split=0.2,\n",
    "    batch_size = 10,\n",
    "    epochs=10,\n",
    "    shuffle=True,\n",
    "    verbose=1,\n",
    "    callbacks=[csv_logger,early_stopping]\n",
    ")"
   ]
  },
  {
   "cell_type": "markdown",
   "metadata": {},
   "source": [
    "#  Saving Model"
   ]
  },
  {
   "cell_type": "code",
   "execution_count": null,
   "metadata": {
    "ExecuteTime": {
     "end_time": "2019-05-23T16:50:05.338240Z",
     "start_time": "2019-05-23T16:50:03.195Z"
    }
   },
   "outputs": [],
   "source": [
    "model.save('models/sales_model_best_model.h5')\n",
    "print('!!!model has been Saved!!!')"
   ]
  },
  {
   "cell_type": "markdown",
   "metadata": {},
   "source": [
    "#  Deleting Model"
   ]
  },
  {
   "cell_type": "code",
   "execution_count": null,
   "metadata": {
    "ExecuteTime": {
     "end_time": "2019-05-23T16:50:05.342242Z",
     "start_time": "2019-05-23T16:50:03.216Z"
    }
   },
   "outputs": [],
   "source": [
    "del model\n",
    "print('!!!model has been deleted!!!')"
   ]
  },
  {
   "cell_type": "markdown",
   "metadata": {
    "ExecuteTime": {
     "end_time": "2019-05-23T15:34:46.677759Z",
     "start_time": "2019-05-23T15:34:46.637758Z"
    }
   },
   "source": [
    "#  Loading Model"
   ]
  },
  {
   "cell_type": "code",
   "execution_count": null,
   "metadata": {
    "ExecuteTime": {
     "end_time": "2019-05-23T16:50:05.349236Z",
     "start_time": "2019-05-23T16:50:03.230Z"
    }
   },
   "outputs": [],
   "source": [
    "# Model Load\n",
    "# load the weights that yielded the best validation accuracy\n",
    "model = keras.models.load_model('models/sales_model_best_model.h5')\n",
    "print('!!!model has been Loaded!!!')"
   ]
  },
  {
   "cell_type": "markdown",
   "metadata": {},
   "source": [
    "#  Model Evaluation"
   ]
  },
  {
   "cell_type": "code",
   "execution_count": null,
   "metadata": {
    "ExecuteTime": {
     "end_time": "2019-05-23T16:50:05.352233Z",
     "start_time": "2019-05-23T16:50:03.246Z"
    }
   },
   "outputs": [],
   "source": [
    "# Load the separate test data set\n",
    "test_data_df = pd.read_csv(\"sales_data_test_scaled.csv\")\n",
    "X_test = test_data_df.drop('total_earnings', axis=1).values\n",
    "Y_test = test_data_df[['total_earnings']].values\n",
    "test_error_rate = model.evaluate(X_test, Y_test, verbose=0)\n",
    "print(\"The mean squared error (MSE) for the test data set is: {}\".format(test_error_rate))\n",
    "#---------"
   ]
  },
  {
   "cell_type": "markdown",
   "metadata": {},
   "source": [
    "#  Visualization"
   ]
  },
  {
   "cell_type": "code",
   "execution_count": 11,
   "metadata": {
    "ExecuteTime": {
     "end_time": "2019-05-23T20:49:57.571200Z",
     "start_time": "2019-05-23T20:49:57.565187Z"
    }
   },
   "outputs": [
    {
     "data": {
      "text/plain": [
       "dict_keys(['val_loss', 'val_mean_absolute_error', 'loss', 'mean_absolute_error'])"
      ]
     },
     "execution_count": 11,
     "metadata": {},
     "output_type": "execute_result"
    }
   ],
   "source": [
    "history.history.keys()"
   ]
  },
  {
   "cell_type": "code",
   "execution_count": 12,
   "metadata": {
    "ExecuteTime": {
     "end_time": "2019-05-23T20:50:00.646713Z",
     "start_time": "2019-05-23T20:50:00.162698Z"
    }
   },
   "outputs": [
    {
     "data": {
      "image/png": "[encoded data removed]",
      "text/plain": [
       "<Figure size 432x288 with 1 Axes>"
      ]
     },
     "metadata": {},
     "output_type": "display_data"
    }
   ],
   "source": [
    "# summarize history for loss\n",
    "plt.plot(history.history['loss'])\n",
    "plt.plot(history.history['val_loss'])\n",
    "plt.title('model loss')\n",
    "plt.ylabel('loss')\n",
    "plt.xlabel('epoch')\n",
    "plt.legend(['train', 'test'], loc='upper left')\n",
    "plt.show()"
   ]
  },
  {
   "cell_type": "code",
   "execution_count": null,
   "metadata": {},
   "outputs": [],
   "source": []
  }
 ],
 "metadata": {
  "kernelspec": {
   "display_name": "Python 3",
   "language": "python",
   "name": "python3"
  },
  "language_info": {
   "codemirror_mode": {
    "name": "ipython",
    "version": 3
   },
   "file_extension": ".py",
   "mimetype": "text/x-python",
   "name": "python",
   "nbconvert_exporter": "python",
   "pygments_lexer": "ipython3",
   "version": "3.6.5"
  },
  "toc": {
   "base_numbering": 1,
   "nav_menu": {},
   "number_sections": true,
   "sideBar": true,
   "skip_h1_title": false,
   "title_cell": "Table of Contents",
   "title_sidebar": "Contents",
   "toc_cell": false,
   "toc_position": {},
   "toc_section_display": true,
   "toc_window_display": true
  }
 },
 "nbformat": 4,
 "nbformat_minor": 2
}
