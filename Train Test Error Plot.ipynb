{
 "cells": [
  {
   "cell_type": "code",
   "execution_count": 26,
   "metadata": {},
   "outputs": [],
   "source": [
    "%matplotlib inline\n",
    "import numpy as np\n",
    "import pandas as pd\n",
    "import matplotlib.pyplot as plt\n",
    "import math\n",
    "import seaborn as sns\n",
    "from scipy import stats\n",
    "from sklearn.model_selection import train_test_split\n",
    "from sklearn.linear_model import LinearRegression\n",
    "from sklearn.metrics import mean_squared_error as mse,r2_score as r2,mean_absolute_error as mae\n",
    "from sklearn.preprocessing import StandardScaler, minmax_scale\n",
    "from sklearn.preprocessing import OneHotEncoder, LabelEncoder\n",
    "import statsmodels.formula.api as sm\n",
    "from sklearn.preprocessing import PolynomialFeatures"
   ]
  },
  {
   "cell_type": "code",
   "execution_count": 73,
   "metadata": {},
   "outputs": [
    {
     "data": {
      "text/html": [
       "<div>\n",
       "<style scoped>\n",
       "    .dataframe tbody tr th:only-of-type {\n",
       "        vertical-align: middle;\n",
       "    }\n",
       "\n",
       "    .dataframe tbody tr th {\n",
       "        vertical-align: top;\n",
       "    }\n",
       "\n",
       "    .dataframe thead th {\n",
       "        text-align: right;\n",
       "    }\n",
       "</style>\n",
       "<table border=\"1\" class=\"dataframe\">\n",
       "  <thead>\n",
       "    <tr style=\"text-align: right;\">\n",
       "      <th></th>\n",
       "      <th>X</th>\n",
       "      <th>y</th>\n",
       "    </tr>\n",
       "  </thead>\n",
       "  <tbody>\n",
       "    <tr>\n",
       "      <th>0</th>\n",
       "      <td>-15.936758</td>\n",
       "      <td>2.134311</td>\n",
       "    </tr>\n",
       "    <tr>\n",
       "      <th>1</th>\n",
       "      <td>-29.152979</td>\n",
       "      <td>1.173257</td>\n",
       "    </tr>\n",
       "    <tr>\n",
       "      <th>2</th>\n",
       "      <td>36.189549</td>\n",
       "      <td>34.359109</td>\n",
       "    </tr>\n",
       "    <tr>\n",
       "      <th>3</th>\n",
       "      <td>37.492187</td>\n",
       "      <td>36.837955</td>\n",
       "    </tr>\n",
       "    <tr>\n",
       "      <th>4</th>\n",
       "      <td>-48.058829</td>\n",
       "      <td>2.808965</td>\n",
       "    </tr>\n",
       "  </tbody>\n",
       "</table>\n",
       "</div>"
      ],
      "text/plain": [
       "           X          y\n",
       "0 -15.936758   2.134311\n",
       "1 -29.152979   1.173257\n",
       "2  36.189549  34.359109\n",
       "3  37.492187  36.837955\n",
       "4 -48.058829   2.808965"
      ]
     },
     "execution_count": 73,
     "metadata": {},
     "output_type": "execute_result"
    }
   ],
   "source": [
    "water = pd.read_csv('water_level.csv', delimiter = ';')\n",
    "water.head()"
   ]
  },
  {
   "cell_type": "code",
   "execution_count": 75,
   "metadata": {},
   "outputs": [],
   "source": [
    "X = pd.DataFrame(water['X'])\n",
    "Y = pd.DataFrame(water['y'])"
   ]
  },
  {
   "cell_type": "code",
   "execution_count": 113,
   "metadata": {},
   "outputs": [],
   "source": [
    "def error (x, y, it):\n",
    "    x_ss = StandardScaler()\n",
    "    y_ss = StandardScaler()\n",
    "    \n",
    "    x = x_ss.fit_transform(x)\n",
    "    y = y_ss.fit_transform(y)\n",
    "    \n",
    "    xtrain, xtest, ytrain, ytest = train_test_split(x, y, test_size=0.20, random_state=100)\n",
    "    \n",
    "    rmse_train = []\n",
    "    rmse_test = []\n",
    "    \n",
    "    score1 = []\n",
    "    score2 = []\n",
    "    for i in range (1,it):\n",
    "        \n",
    "        poly_regressor = PolynomialFeatures(degree = i)\n",
    "        X_poly_train = poly_regressor.fit_transform(xtrain)\n",
    "        \n",
    "        regressor = LinearRegression()\n",
    "        regressor.fit(X_poly_train, ytrain)\n",
    "        \n",
    "        Y_hat_train = regressor.predict(X_poly_train)\n",
    "        \n",
    "        rmse_train.append(math.sqrt(mse(ytrain, Y_hat_train)))\n",
    "        score1.append(1 - regressor.score(X_poly_train,ytrain))\n",
    "        \n",
    "        X_poly_test= poly_regressor.fit_transform(xtest)                  \n",
    "        Y_hat_test = regressor.predict(X_poly_test)\n",
    "        \n",
    "        rmse_test.append(math.sqrt(mse(ytest, Y_hat_test)))\n",
    "        score2.append(1 - regressor.score(X_poly_test,ytest))\n",
    "        \n",
    "    plt.figure(figsize=(12, 10))\n",
    "    plt.plot(range(1,it), score1, color = 'darkorange')\n",
    "    plt.plot(range(1,it), score2, color = 'deeppink')\n",
    "    plt.show()                 \n",
    "    return    "
   ]
  },
  {
   "cell_type": "code",
   "execution_count": 114,
   "metadata": {},
   "outputs": [
    {
     "data": {
      "image/png": "[encoded data removed]",
      "text/plain": [
       "<Figure size 864x720 with 1 Axes>"
      ]
     },
     "metadata": {
      "needs_background": "light"
     },
     "output_type": "display_data"
    }
   ],
   "source": [
    "error (x, y, 10)"
   ]
  },
  {
   "cell_type": "code",
   "execution_count": 122,
   "metadata": {},
   "outputs": [],
   "source": [
    "def rmse_error (x, y, it):\n",
    "    x_ss = StandardScaler()\n",
    "    y_ss = StandardScaler()\n",
    "    \n",
    "    x = x_ss.fit_transform(x)\n",
    "    y = y_ss.fit_transform(y)\n",
    "    \n",
    "    xtrain, xtest, ytrain, ytest = train_test_split(x, y, test_size=0.20, random_state=100)\n",
    "    \n",
    "    rmse_train = []\n",
    "    rmse_test = []\n",
    "    \n",
    "    score1 = []\n",
    "    score2 = []\n",
    "    \n",
    "    for i in range (1,it):\n",
    "        \n",
    "        poly_regressor = PolynomialFeatures(degree = i)\n",
    "        X_poly_train = poly_regressor.fit_transform(xtrain)\n",
    "        \n",
    "        regressor = LinearRegression()\n",
    "        regressor.fit(X_poly_train, ytrain)\n",
    "        \n",
    "        Y_hat_train = regressor.predict(X_poly_train)\n",
    "        \n",
    "        rmse_train.append(math.sqrt(mse(ytrain, Y_hat_train)))\n",
    "        score1.append(1 - r2(ytrain, Y_hat_train))\n",
    "        \n",
    "        X_poly_test= poly_regressor.fit_transform(xtest)                  \n",
    "        Y_hat_test = regressor.predict(X_poly_test)\n",
    "        \n",
    "        rmse_test.append(math.sqrt(mse(ytest, Y_hat_test)))\n",
    "        score2.append(1 - r2(ytest, Y_hat_test))\n",
    "        \n",
    "    plt.figure(figsize=(12, 10))\n",
    "    plt.plot(range(1,it), rmse_train, color = 'darkorange')\n",
    "    plt.plot(range(1,it), rmse_test, color = 'deeppink')\n",
    "    plt.show()                 \n",
    "    return         "
   ]
  },
  {
   "cell_type": "code",
   "execution_count": 123,
   "metadata": {},
   "outputs": [
    {
     "data": {
      "image/png": "[encoded data removed]",
      "text/plain": [
       "<Figure size 864x720 with 1 Axes>"
      ]
     },
     "metadata": {
      "needs_background": "light"
     },
     "output_type": "display_data"
    }
   ],
   "source": [
    "rmse_error(X, Y, 10)"
   ]
  },
  {
   "cell_type": "code",
   "execution_count": null,
   "metadata": {},
   "outputs": [],
   "source": []
  }
 ],
 "metadata": {
  "kernelspec": {
   "display_name": "Python 3",
   "language": "python",
   "name": "python3"
  },
  "language_info": {
   "codemirror_mode": {
    "name": "ipython",
    "version": 3
   },
   "file_extension": ".py",
   "mimetype": "text/x-python",
   "name": "python",
   "nbconvert_exporter": "python",
   "pygments_lexer": "ipython3",
   "version": "3.7.1"
  }
 },
 "nbformat": 4,
 "nbformat_minor": 2
}
